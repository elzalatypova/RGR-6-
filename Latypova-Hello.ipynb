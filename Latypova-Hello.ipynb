{
 "cells": [
  {
   "cell_type": "markdown",
   "id": "90ce46a3-114b-409d-9be7-4036f207aaf1",
   "metadata": {},
   "source": [
    "# Первая программа на суперкомпьютере"
   ]
  },
  {
   "cell_type": "code",
   "execution_count": 2,
   "id": "cb9e4330-3b77-4e06-abde-297c37d6c8c3",
   "metadata": {},
   "outputs": [
    {
     "name": "stdout",
     "output_type": "stream",
     "text": [
      "Hello World!\n"
     ]
    }
   ],
   "source": [
    "print(\"Hello World!\")"
   ]
  },
  {
   "cell_type": "markdown",
   "id": "a05bb939-0de3-4255-8abb-6b4927df7d6c",
   "metadata": {},
   "source": [
    "Выполнила: Латыпова Э.М."
   ]
  }
 ],
 "metadata": {
  "kernelspec": {
   "display_name": "Python 3 (ipykernel)",
   "language": "python",
   "name": "python3"
  },
  "language_info": {
   "codemirror_mode": {
    "name": "ipython",
    "version": 3
   },
   "file_extension": ".py",
   "mimetype": "text/x-python",
   "name": "python",
   "nbconvert_exporter": "python",
   "pygments_lexer": "ipython3",
   "version": "3.8.12"
  }
 },
 "nbformat": 4,
 "nbformat_minor": 5
}
